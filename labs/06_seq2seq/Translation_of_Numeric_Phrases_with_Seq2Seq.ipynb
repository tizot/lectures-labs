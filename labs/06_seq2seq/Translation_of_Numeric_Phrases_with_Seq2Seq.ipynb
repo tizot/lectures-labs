{
 "cells": [
  {
   "cell_type": "markdown",
   "metadata": {},
   "source": [
    "In the following we will try to build a translation model from french phrases th\n",
    "\n",
    "French has many weird rules"
   ]
  },
  {
   "cell_type": "code",
   "execution_count": 4,
   "metadata": {
    "collapsed": false
   },
   "outputs": [],
   "source": [
    "from sklearn.model_selection import train_test_split\n",
    "from french_numbers import generate_translations, build_vocabulary\n",
    "\n",
    "\n",
    "numbers, french_numbers = generate_translations(\n",
    "    low=1, high=int(1e6) - 1, exhaustive=1000, random_seed=0)\n",
    "num_train, num_dev, fr_train, fr_dev = train_test_split(\n",
    "    numbers, french_numbers, test_size=0.1, random_state=0)\n",
    "\n",
    "# build the vocabularies from the training set only to get a chance\n",
    "# to have some out-of-vocabulary words in the dev set.\n",
    "fr_vocab, rev_fr_vocab = build_vocabulary(fr_train, word_level=True)\n",
    "num_vocab, rev_num_vocab = build_vocabulary(num_train, word_level=False)"
   ]
  },
  {
   "cell_type": "code",
   "execution_count": 12,
   "metadata": {
    "collapsed": true
   },
   "outputs": [],
   "source": [
    "max_encoder_len = max([len(s) for s in french_token_ids])\n",
    "max_decoder_len = max()"
   ]
  }
 ],
 "metadata": {
  "kernelspec": {
   "display_name": "Python 3",
   "language": "python",
   "name": "python3"
  },
  "language_info": {
   "codemirror_mode": {
    "name": "ipython",
    "version": 3
   },
   "file_extension": ".py",
   "mimetype": "text/x-python",
   "name": "python",
   "nbconvert_exporter": "python",
   "pygments_lexer": "ipython3",
   "version": "3.5.2"
  }
 },
 "nbformat": 4,
 "nbformat_minor": 1
}
