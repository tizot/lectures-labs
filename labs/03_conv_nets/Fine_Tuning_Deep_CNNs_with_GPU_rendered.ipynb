{
 "cells": [
  {
   "cell_type": "markdown",
   "metadata": {
    "deletable": true,
    "editable": true
   },
   "source": [
    "# Fine Tuning a pre-trained Deep CNN on a GPU machine\n",
    "\n",
    "This session is inspired by [a blog post](https://blog.keras.io/building-powerful-image-classification-models-using-very-little-data.html) by François Chollet, the creator of the Keras library.\n",
    "\n",
    "**WARNING**: the execution of notebook **requires a powerful GPU** (e.g. nvidia K80, GTX 980 or later with a least 6GB of GPU RAM).\n",
    "\n",
    "\n",
    "For this session we are going to use the dataset of the [dogs-vs-cats](https://www.kaggle.com/c/dogs-vs-cats/data).\n",
    "\n",
    "If you use the pre-built Azure VM image (recommended) the **data has already been downloaded**.\n",
    "\n",
    "To download the data yourself, create a password-based account on Kaggle, then click on the download link of one of the data file **when you are logged-in in your browser** to get to the form that makes you accept the terms and conditions of that challenge.\n",
    "\n",
    "Then in a shell session possibly on a server do the following:\n",
    "\n",
    "```bash\n",
    "pip install kaggle-cli\n",
    "mkdir -p ~/data/dogs-vs-cats\n",
    "cd ~/data/dogs-vs-cats\n",
    "kg download -u username -p password -c dogs-vs-cats\n",
    "```\n",
    "\n",
    "This should download 3 files among which: `train.zip` and `test1.zip` (and a CSV template file we won't need).\n",
    "\n",
    "Once this is done **we can extract the archives for the train set**:"
   ]
  },
  {
   "cell_type": "code",
   "execution_count": null,
   "metadata": {
    "collapsed": false,
    "deletable": true,
    "editable": true
   },
   "outputs": [],
   "source": [
    "%matplotlib inline\n",
    "import matplotlib.pyplot as plt\n",
    "import numpy as np\n",
    "\n",
    "import os\n",
    "import os.path as op\n",
    "import shutil\n",
    "from zipfile import ZipFile\n",
    "\n",
    "data_folder = op.expanduser('~/data/dogs-vs-cats')\n",
    "train_folder = op.join(data_folder, 'train')\n",
    "\n",
    "if not op.exists(train_folder):\n",
    "    train_zip = op.join(data_folder, 'train.zip')\n",
    "    print('Extracting %s...' % train_zip)\n",
    "    ZipFile(train_zip).extractall(data_folder)"
   ]
  },
  {
   "cell_type": "markdown",
   "metadata": {
    "deletable": true,
    "editable": true
   },
   "source": [
    "The Keras image data helpers want images for different classes ('cat' and 'dog') to live in distinct subfolders. Let's rearrange the image files to follow that convention:"
   ]
  },
  {
   "cell_type": "code",
   "execution_count": null,
   "metadata": {
    "collapsed": false,
    "deletable": true,
    "editable": true
   },
   "outputs": [],
   "source": [
    "def rearrange_folders(folder):\n",
    "    image_filenames = [op.join(folder, fn) for fn in os.listdir(folder)\n",
    "                       if fn.endswith('.jpg')]\n",
    "    if len(image_filenames) == 0:\n",
    "        return\n",
    "    print(\"Rearranging %d images in %s into one subfolder per class...\"\n",
    "          % (len(image_filenames), folder))\n",
    "    for image_filename in image_filenames:\n",
    "        subfolder, _ = image_filename.split('.', 1)\n",
    "        subfolder = op.join(folder, subfolder)\n",
    "        if not op.exists(subfolder):\n",
    "            os.mkdir(subfolder)\n",
    "        shutil.move(image_filename, subfolder)\n",
    "\n",
    "\n",
    "rearrange_folders(train_folder)"
   ]
  },
  {
   "cell_type": "markdown",
   "metadata": {
    "deletable": true,
    "editable": true
   },
   "source": [
    "Lets build a validation dataset by taking 500 images of cats and 500 images of dogs out of the training set:"
   ]
  },
  {
   "cell_type": "code",
   "execution_count": null,
   "metadata": {
    "collapsed": false,
    "deletable": true,
    "editable": true
   },
   "outputs": [],
   "source": [
    "n_validation = 500\n",
    "\n",
    "validation_folder = op.join(data_folder, 'validation')\n",
    "if not op.exists(validation_folder):\n",
    "    os.mkdir(validation_folder)\n",
    "    for class_name in ['dog', 'cat']:\n",
    "        train_subfolder = op.join(train_folder, class_name)\n",
    "        validation_subfolder = op.join(validation_folder, class_name)\n",
    "        print(\"Populating %s...\" % validation_subfolder)\n",
    "        os.mkdir(validation_subfolder)\n",
    "        images_filenames = sorted(os.listdir(train_subfolder))\n",
    "        for image_filename in images_filenames[-n_validation:]:\n",
    "            shutil.move(op.join(train_subfolder, image_filename),\n",
    "                        validation_subfolder)\n",
    "        print(\"Moved %d images\" % len(os.listdir(validation_subfolder)))"
   ]
  },
  {
   "cell_type": "markdown",
   "metadata": {
    "deletable": true,
    "editable": true
   },
   "source": [
    "## Data Loading and Data Augmentation\n",
    "\n",
    "\n",
    "Let's use keras utilities to manually load the first image file of the cat folder. If keras complains about the missing \"PIL\" library, make sure to install it with one of the following commands:\n",
    "\n",
    "```bash\n",
    "conda install pillow\n",
    "\n",
    "# or\n",
    "\n",
    "pip install pillow\n",
    "```\n",
    "\n",
    "You might need to restart the kernel of this notebook to get Keras work."
   ]
  },
  {
   "cell_type": "code",
   "execution_count": null,
   "metadata": {
    "collapsed": false,
    "deletable": true,
    "editable": true
   },
   "outputs": [],
   "source": [
    "from keras.preprocessing.image import array_to_img, img_to_array, load_img\n",
    "\n",
    "img = load_img(op.join(train_folder, 'cat', 'cat.249.jpg'))\n",
    "x = img_to_array(img)\n",
    "\n",
    "print(x.shape)"
   ]
  },
  {
   "cell_type": "code",
   "execution_count": null,
   "metadata": {
    "collapsed": false,
    "deletable": true,
    "editable": true
   },
   "outputs": [],
   "source": [
    "plt.imshow(x / 255)\n",
    "plt.axis('off');"
   ]
  },
  {
   "cell_type": "markdown",
   "metadata": {
    "deletable": true,
    "editable": true
   },
   "source": [
    "Keras provides tools to generate many variations from a single image: this is useful to augment the dataset with variants that should not affect the image label: a rotated image of a cat is an image of a cat.\n",
    "\n",
    "Doing data augmentation at train time make neural networks ignore such label-preserving transformations and therefore help reduce overfitting."
   ]
  },
  {
   "cell_type": "code",
   "execution_count": null,
   "metadata": {
    "collapsed": false,
    "deletable": true,
    "editable": true
   },
   "outputs": [],
   "source": [
    "from keras.preprocessing.image import ImageDataGenerator\n",
    "\n",
    "\n",
    "augmenting_datagen = ImageDataGenerator(\n",
    "    rescale=1. / 255,\n",
    "    rotation_range=40,\n",
    "    width_shift_range=0.2,\n",
    "    height_shift_range=0.2,\n",
    "    shear_range=0.2,\n",
    "    zoom_range=0.2,\n",
    "    horizontal_flip=True,\n",
    "    channel_shift_range=9,\n",
    "    fill_mode='nearest'\n",
    ")"
   ]
  },
  {
   "cell_type": "code",
   "execution_count": null,
   "metadata": {
    "collapsed": false,
    "deletable": true,
    "editable": true
   },
   "outputs": [],
   "source": [
    "plt.figure(figsize=(11, 5))\n",
    "flow = augmenting_datagen.flow(x[np.newaxis, :, :, :])\n",
    "for i, x_augmented in zip(range(15), flow):\n",
    "    plt.subplot(3, 5, i + 1)\n",
    "    plt.imshow(x_augmented[0])\n",
    "    plt.axis('off')"
   ]
  },
  {
   "cell_type": "markdown",
   "metadata": {
    "deletable": true,
    "editable": true
   },
   "source": [
    "The `ImageDataGenerator` object can the be pointed to the dataset folder both load the image and augment them on the fly and resize / crop them to fit the input dimensions of the classification neural network."
   ]
  },
  {
   "cell_type": "code",
   "execution_count": null,
   "metadata": {
    "collapsed": false,
    "deletable": true,
    "editable": true
   },
   "outputs": [],
   "source": [
    "flow = augmenting_datagen.flow_from_directory(\n",
    "    train_folder, batch_size=1, target_size=(224, 224))\n",
    "\n",
    "plt.figure(figsize=(11, 5))\n",
    "for i, (X, y) in zip(range(15), flow):\n",
    "    plt.subplot(3, 5, i + 1)\n",
    "    plt.imshow(X[0])\n",
    "    plt.axis('off')"
   ]
  },
  {
   "cell_type": "markdown",
   "metadata": {
    "deletable": true,
    "editable": true
   },
   "source": [
    "## Loading a pre-trained computer vision model\n",
    "\n",
    "Let us load a state of the art model with a good tradeoff between prediction speed, model size and predictive accuracy, namely a Residual Network with 54 parameterized layers (53 convolutional + 1 fully connected for the softmax):"
   ]
  },
  {
   "cell_type": "code",
   "execution_count": null,
   "metadata": {
    "collapsed": false,
    "deletable": true,
    "editable": true
   },
   "outputs": [],
   "source": [
    "from keras.applications.resnet50 import ResNet50, preprocess_input\n",
    "\n",
    "full_imagenet_model = ResNet50(weights='imagenet')"
   ]
  },
  {
   "cell_type": "code",
   "execution_count": null,
   "metadata": {
    "collapsed": false,
    "deletable": true,
    "editable": true
   },
   "outputs": [],
   "source": [
    "# print(full_imagenet_model.summary())"
   ]
  },
  {
   "cell_type": "markdown",
   "metadata": {
    "deletable": true,
    "editable": true
   },
   "source": [
    "If you have `graphviz` system package and the `pydot_ng` python package installed you can uncomment the following cell to display the structure of the network."
   ]
  },
  {
   "cell_type": "code",
   "execution_count": null,
   "metadata": {
    "collapsed": false,
    "deletable": true,
    "editable": true,
    "scrolled": false
   },
   "outputs": [],
   "source": [
    "# from IPython.display import SVG\n",
    "# from keras.utils.visualize_util import model_to_dot\n",
    "\n",
    "\n",
    "# model_viz = model_to_dot(full_imagenet_model,\n",
    "#                          show_layer_names=False,\n",
    "#                          show_shapes=True)\n",
    "# SVG(model_viz.create(prog='dot', format='svg'))"
   ]
  },
  {
   "cell_type": "markdown",
   "metadata": {
    "deletable": true,
    "editable": true
   },
   "source": [
    "## Transfer learning\n",
    "\n",
    "Let's remove the last dense classification layer that is specific to the image net classes and use the previous layer (after flattening) as a feature extractor:"
   ]
  },
  {
   "cell_type": "code",
   "execution_count": null,
   "metadata": {
    "collapsed": false,
    "deletable": true,
    "editable": true
   },
   "outputs": [],
   "source": [
    "from keras.models import Model\n",
    "\n",
    "output = full_imagenet_model.layers[-2].output\n",
    "base_model = Model(full_imagenet_model.input, output)"
   ]
  },
  {
   "cell_type": "markdown",
   "metadata": {
    "deletable": true,
    "editable": true
   },
   "source": [
    "When using this model we need to be careful to apply the same image processing as was used during the training, otherwise the marginal distribution of the input pixels might not be on the right scale:"
   ]
  },
  {
   "cell_type": "code",
   "execution_count": null,
   "metadata": {
    "collapsed": true,
    "deletable": true,
    "editable": true
   },
   "outputs": [],
   "source": [
    "def preprocess_function(x):\n",
    "    if x.ndim == 3:\n",
    "        x = x[np.newaxis, :, :, :]\n",
    "    return preprocess_input(x)"
   ]
  },
  {
   "cell_type": "code",
   "execution_count": null,
   "metadata": {
    "collapsed": false,
    "deletable": true,
    "editable": true
   },
   "outputs": [],
   "source": [
    "batch_size = 50\n",
    "\n",
    "datagen = ImageDataGenerator(preprocessing_function=preprocess_function)\n",
    "\n",
    "train_flow = datagen.flow_from_directory(\n",
    "    train_folder,\n",
    "    target_size=(224, 224),\n",
    "    batch_size=batch_size,\n",
    "    class_mode='binary',\n",
    "    shuffle=True,\n",
    ")\n",
    "\n",
    "\n",
    "X, y = next(train_flow)\n",
    "print(X.shape, y.shape)"
   ]
  },
  {
   "cell_type": "markdown",
   "metadata": {
    "deletable": true,
    "editable": true
   },
   "source": [
    "**Exercise**: write a function that iterate of over 5000 images in the training set (bach after batch), extracts the activations of the last layer of `base_model` (by calling predicts) and collect the results in a big numpy array with dimensions `(5000, 2048)` for the features and `(5000,)` for the matching image labels."
   ]
  },
  {
   "cell_type": "code",
   "execution_count": null,
   "metadata": {
    "collapsed": false,
    "deletable": true,
    "editable": true
   },
   "outputs": [],
   "source": [
    "# %load solutions/dogs_vs_cats_extract_features.py\n",
    "from time import time\n",
    "\n",
    "features = []\n",
    "labels = []\n",
    "\n",
    "t0 = time()\n",
    "count = 0\n",
    "for X, y in train_flow:\n",
    "    labels.append(y)\n",
    "    features.append(base_model.predict(X))\n",
    "    count += len(y)\n",
    "    if count % 100 == 0:\n",
    "        print(\"processed %d images at %d images/s\"\n",
    "              % (count, count / (time() - t0)))\n",
    "    if count >= 5000:\n",
    "        break\n",
    "\n",
    "labels_train = np.concatenate(labels)\n",
    "features_train = np.vstack(features)\n",
    "np.save('labels_train.npy', labels_train)\n",
    "np.save('features_train.npy', features_train)"
   ]
  },
  {
   "cell_type": "markdown",
   "metadata": {
    "deletable": true,
    "editable": true
   },
   "source": [
    "Let's load precomputed features if available:"
   ]
  },
  {
   "cell_type": "code",
   "execution_count": null,
   "metadata": {
    "collapsed": false,
    "deletable": true,
    "editable": true
   },
   "outputs": [],
   "source": [
    "print(\"Loading precomputed features\")\n",
    "labels_train = np.load('labels_train.npy')\n",
    "features_train = np.load('features_train.npy')"
   ]
  },
  {
   "cell_type": "markdown",
   "metadata": {
    "deletable": true,
    "editable": true
   },
   "source": [
    "Let's train a simple linear model on those features. First let's check that the resulting small dataset has balanced classes:"
   ]
  },
  {
   "cell_type": "code",
   "execution_count": null,
   "metadata": {
    "collapsed": false,
    "deletable": true,
    "editable": true
   },
   "outputs": [],
   "source": [
    "print(labels_train.shape)"
   ]
  },
  {
   "cell_type": "code",
   "execution_count": null,
   "metadata": {
    "collapsed": false,
    "deletable": true,
    "editable": true
   },
   "outputs": [],
   "source": [
    "np.mean(labels_train)"
   ]
  },
  {
   "cell_type": "code",
   "execution_count": null,
   "metadata": {
    "collapsed": false,
    "deletable": true,
    "editable": true
   },
   "outputs": [],
   "source": [
    "n_samples, n_features = features_train.shape\n",
    "print(n_features, \"features extracted\")"
   ]
  },
  {
   "cell_type": "markdown",
   "metadata": {
    "deletable": true,
    "editable": true
   },
   "source": [
    "Let's define the classification model:"
   ]
  },
  {
   "cell_type": "code",
   "execution_count": null,
   "metadata": {
    "collapsed": false,
    "deletable": true,
    "editable": true
   },
   "outputs": [],
   "source": [
    "from keras.models import Sequential\n",
    "from keras.layers import Dense, Dropout\n",
    "from keras.optimizers import Adam\n",
    "\n",
    "\n",
    "top_model = Sequential()\n",
    "top_model.add(Dense(1, input_dim=n_features, activation='sigmoid'))\n",
    "top_model.compile(optimizer=Adam(lr=1e-4),\n",
    "                  loss='binary_crossentropy', metrics=['accuracy'])\n",
    "\n",
    "top_model.fit(features_train, labels_train,\n",
    "              validation_split=0.1, verbose=2, nb_epoch=15)"
   ]
  },
  {
   "cell_type": "markdown",
   "metadata": {
    "deletable": true,
    "editable": true
   },
   "source": [
    "Alright so the transfer learning is already at ~0.98 / 0.99 accuracy. This is not too surprising as the cats and dogs classes are already part of the imagenet label set.\n",
    "\n",
    "Note that this is **already as good or slightly better than the winner of the original kaggle competition** [three years ago](https://www.kaggle.com/c/dogs-vs-cats/leaderboard). At that time they did not have pretrained resnet models at hand.\n",
    "\n",
    "Or validation set has 1000 images, so an accuracy of 0.990 means only 10 classification errors.\n",
    "\n",
    "Let's plug this on top the base model to be able to use it to make some classifications on our held out validation image folder:"
   ]
  },
  {
   "cell_type": "code",
   "execution_count": null,
   "metadata": {
    "collapsed": false,
    "deletable": true,
    "editable": true
   },
   "outputs": [],
   "source": [
    "model = Model(base_model.input, top_model(base_model.output))"
   ]
  },
  {
   "cell_type": "code",
   "execution_count": null,
   "metadata": {
    "collapsed": false,
    "deletable": true,
    "editable": true
   },
   "outputs": [],
   "source": [
    "flow = ImageDataGenerator().flow_from_directory(\n",
    "        validation_folder, batch_size=1, target_size=(224, 224))\n",
    "\n",
    "plt.figure(figsize=(12, 8))\n",
    "for i, (X, y) in zip(range(15), flow):\n",
    "    plt.subplot(3, 5, i + 1)\n",
    "    plt.imshow(X[0] / 255)\n",
    "    prediction = model.predict(preprocess_input(X))\n",
    "    label = \"dog\" if y[:, 1] > 0.5 else \"cat\"\n",
    "    plt.title(\"dog prob=%0.4f\\ntrue label: %s\"\n",
    "              % (prediction, label))\n",
    "    plt.axis('off')"
   ]
  },
  {
   "cell_type": "markdown",
   "metadata": {
    "deletable": true,
    "editable": true
   },
   "source": [
    "Let's compute the validation score on the full validation set:"
   ]
  },
  {
   "cell_type": "code",
   "execution_count": null,
   "metadata": {
    "collapsed": false,
    "deletable": true,
    "editable": true
   },
   "outputs": [],
   "source": [
    "valgen = ImageDataGenerator(preprocessing_function=preprocess_function)\n",
    "val_flow = valgen.flow_from_directory(validation_folder, batch_size=batch_size,\n",
    "                               target_size=(224, 224), shuffle=False,\n",
    "                               class_mode='binary')\n",
    "\n",
    "all_correct = []\n",
    "for i, (X, y) in zip(range(val_flow.nb_sample // batch_size), val_flow):\n",
    "    predictions = model.predict(X).ravel()\n",
    "    correct = list((predictions > 0.5) == y)\n",
    "    all_correct.extend(correct)\n",
    "    print(\"Processed %d images\" % len(all_correct))\n",
    "    \n",
    "print(\"Validation accuracy: %0.4f\" % np.mean(all_correct))"
   ]
  },
  {
   "cell_type": "markdown",
   "metadata": {
    "deletable": true,
    "editable": true
   },
   "source": [
    "**Exercise:** display the example where the model makes the most confident mistakes.\n",
    "\n",
    "To display images in jupyter notebook you can use:\n",
    "\n",
    "```python\n",
    "from IPython.display import Image, display\n",
    "import os.path as op\n",
    "\n",
    "display(Image(op.join(validation_folder, image_name)))\n",
    "```\n",
    "\n",
    "The filenames of items sampled by a flow (without random shuffling) can be accessed via: `val_flow.filenames`."
   ]
  },
  {
   "cell_type": "code",
   "execution_count": null,
   "metadata": {
    "collapsed": false,
    "deletable": true,
    "editable": true
   },
   "outputs": [],
   "source": []
  },
  {
   "cell_type": "code",
   "execution_count": null,
   "metadata": {
    "collapsed": true,
    "deletable": true,
    "editable": true
   },
   "outputs": [],
   "source": [
    "# %load solutions/dogs_vs_cats_worst_predictions.py\n",
    "from IPython.display import Image, display\n",
    "\n",
    "predicted_batches = []\n",
    "label_batches = []\n",
    "n_batches = val_flow.nb_sample // batch_size\n",
    "for i, (X, y) in zip(range(n_batches), val_flow):\n",
    "    predicted_batches.append(model.predict(X).ravel())\n",
    "    label_batches.append(y)\n",
    "    print(\"%d/%d\" % (i + 1, n_batches))\n",
    "\n",
    "predictions = np.concatenate(predicted_batches)\n",
    "true_labels = np.concatenate(label_batches)\n",
    "top_offenders = np.abs(predictions - true_labels).argsort()[::-1][:10]\n",
    "\n",
    "image_names = np.array(val_flow.filenames, dtype=np.object)[top_offenders]\n",
    "for img, pred in zip(image_names, predictions[top_offenders]):\n",
    "    print(\"predicted dog probability: %0.4f\" % pred)\n",
    "    display(Image(op.join(validation_folder, img)))\n",
    "\n",
    "# Analysis:\n",
    "#\n",
    "# The  worst offender has the grid occlusion: this kind of grids is\n",
    "# probably much more frequent for dogs in in the rest of the training\n",
    "# set. This is an unwanted bias of our dataset.\n",
    "#\n",
    "# To fix it we would probably need to add other images with similar\n",
    "# occlusion patterns to teach the model to be invariant to them.\n",
    "# This could be achieved with a dedicated data augmentation scheme.\n",
    "#\n",
    "# The image with both a dog and a cat could clearly be considered a\n",
    "# labeling error: this kind of ambiguous images should be removed\n",
    "# from the validation set to properly asses the generalization ability\n",
    "# of the model.\n",
    "#\n",
    "# The other errors are harder to understand. Introspecting the gradients\n",
    "# back to the pixel space could help understand what's misleading the\n",
    "# model. It could be some elements in the background that are\n",
    "# statistically very correlated to dogs in the training set."
   ]
  },
  {
   "cell_type": "markdown",
   "metadata": {
    "deletable": true,
    "editable": true
   },
   "source": [
    "## Fine tuning\n",
    "\n",
    "Let's identify the location of the residual blocks (merge by addition in a residual architecture):"
   ]
  },
  {
   "cell_type": "code",
   "execution_count": null,
   "metadata": {
    "collapsed": false,
    "deletable": true,
    "editable": true,
    "scrolled": false
   },
   "outputs": [],
   "source": [
    "from keras.layers import Merge\n",
    "\n",
    "[(i, l.output_shape)\n",
    " for (i, l) in enumerate(model.layers)\n",
    " if isinstance(l, Merge)]"
   ]
  },
  {
   "cell_type": "markdown",
   "metadata": {
    "collapsed": true,
    "deletable": true,
    "editable": true
   },
   "source": [
    "Let's fix the weights of the low level layers and fine tune the top level layers:"
   ]
  },
  {
   "cell_type": "code",
   "execution_count": null,
   "metadata": {
    "collapsed": true,
    "deletable": true,
    "editable": true
   },
   "outputs": [],
   "source": [
    "for i, layer in enumerate(model.layers):\n",
    "    layer.trainable = i >= 152"
   ]
  },
  {
   "cell_type": "markdown",
   "metadata": {
    "deletable": true,
    "editable": true
   },
   "source": [
    "Let's fine tune a bit the top level layers to see if we can further improve the accuracy. Use the **nvidia-smi** command in a bash terminal on the server to monitor the GPU usage when the model is training."
   ]
  },
  {
   "cell_type": "code",
   "execution_count": null,
   "metadata": {
    "collapsed": false,
    "deletable": true,
    "editable": true
   },
   "outputs": [],
   "source": [
    "from keras import optimizers\n",
    "\n",
    "augmenting_datagen = ImageDataGenerator(\n",
    "    rotation_range=20,\n",
    "    width_shift_range=0.2,\n",
    "    height_shift_range=0.2,\n",
    "    shear_range=0.2,\n",
    "    zoom_range=0.2,\n",
    "    horizontal_flip=True,\n",
    "    fill_mode='nearest',\n",
    "    preprocessing_function=preprocess_function,\n",
    ")\n",
    "train_flow = augmenting_datagen.flow_from_directory(\n",
    "    train_folder, target_size=(224, 224), batch_size=batch_size,\n",
    "    class_mode='binary', shuffle=True, seed=0)\n",
    "\n",
    "opt = optimizers.SGD(lr=1e-4, momentum=0.9)\n",
    "model.compile(optimizer=opt, loss='binary_crossentropy',\n",
    "              metrics=['accuracy'])\n",
    "\n",
    "\n",
    "# compute the validation metrics every 5000 training samples\n",
    "history = model.fit_generator(train_flow, 5000,\n",
    "                              nb_epoch=30,\n",
    "                              validation_data=val_flow,\n",
    "                              nb_val_samples=val_flow.nb_sample)\n",
    "\n",
    "# Note: the pretrained model was already very good. Fine tuning\n",
    "# does not really seem to help. It might be more interesting to\n",
    "# introspect the quality of the labeling in the training set to\n",
    "# check for images that are too ambiguous and should be removed\n",
    "# from the training set."
   ]
  },
  {
   "cell_type": "markdown",
   "metadata": {
    "deletable": true,
    "editable": true
   },
   "source": [
    "**Bonus exercise**: train your own architecture from scratch using adam and data augmentation. Start with a small architecture first."
   ]
  },
  {
   "cell_type": "markdown",
   "metadata": {
    "deletable": true,
    "editable": true
   },
   "source": [
    "**Bonus exercise**: run this notebook on an instance with several GPUs (NC12 or NC24 instances on Azure) and try to speed up the training with: https://medium.com/@kuza55/transparent-multi-gpu-training-on-tensorflow-with-keras-8b0016fd9012"
   ]
  },
  {
   "cell_type": "code",
   "execution_count": null,
   "metadata": {
    "collapsed": true,
    "deletable": true,
    "editable": true
   },
   "outputs": [],
   "source": []
  }
 ],
 "metadata": {
  "anaconda-cloud": {},
  "kernelspec": {
   "display_name": "Python 3",
   "language": "python",
   "name": "python3"
  },
  "language_info": {
   "codemirror_mode": {
    "name": "ipython",
    "version": 3
   },
   "file_extension": ".py",
   "mimetype": "text/x-python",
   "name": "python",
   "nbconvert_exporter": "python",
   "pygments_lexer": "ipython3",
   "version": "3.5.2"
  }
 },
 "nbformat": 4,
 "nbformat_minor": 2
}
